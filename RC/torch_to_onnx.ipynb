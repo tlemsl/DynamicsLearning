{
 "cells": [
  {
   "cell_type": "code",
   "execution_count": 1,
   "metadata": {},
   "outputs": [
    {
     "name": "stderr",
     "output_type": "stream",
     "text": [
      "/opt/conda/lib/python3.10/site-packages/tqdm/auto.py:21: TqdmWarning: IProgress not found. Please update jupyter and ipywidgets. See https://ipywidgets.readthedocs.io/en/stable/user_install.html\n",
      "  from .autonotebook import tqdm as notebook_tqdm\n"
     ]
    }
   ],
   "source": [
    "import torch\n",
    "\n",
    "from Models.RobotModel import RobotDynamicsModel, RobotDynamicsModel_v2\n",
    "# Assuming your trained model is loaded as model\n",
    "model = RobotDynamicsModel_v2(input_size=100, output_size=3)  # Set input_size to h * (|x| + |a|) as per your specs\n",
    "model.load_state_dict(torch.load(\"Mujoco_model.pth\"))\n",
    "model.eval()\n",
    "\n",
    "# Dummy input matching your input shape for the model\n",
    "dummy_input = torch.randn(1, 100)  # 1 batch, 100 input features\n",
    "\n",
    "# Export to ONNX format\n",
    "torch.onnx.export(\n",
    "    model,\n",
    "    dummy_input,\n",
    "    \"/workspace/robot_dynamics_model_v2.onnx\",\n",
    "    input_names=['input'],\n",
    "    output_names=['output']\n",
    ")\n"
   ]
  },
  {
   "cell_type": "markdown",
   "metadata": {},
   "source": []
  },
  {
   "cell_type": "code",
   "execution_count": null,
   "metadata": {},
   "outputs": [],
   "source": []
  }
 ],
 "metadata": {
  "kernelspec": {
   "display_name": "base",
   "language": "python",
   "name": "python3"
  },
  "language_info": {
   "codemirror_mode": {
    "name": "ipython",
    "version": 3
   },
   "file_extension": ".py",
   "mimetype": "text/x-python",
   "name": "python",
   "nbconvert_exporter": "python",
   "pygments_lexer": "ipython3",
   "version": "3.10.13"
  }
 },
 "nbformat": 4,
 "nbformat_minor": 2
}
