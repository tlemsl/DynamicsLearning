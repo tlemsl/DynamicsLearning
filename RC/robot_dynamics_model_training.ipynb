{
 "cells": [
  {
   "cell_type": "markdown",
   "id": "86addc13",
   "metadata": {},
   "source": [
    "# Robot Dynamics Model Training\n",
    "This notebook trains a robot dynamics model using the architecture specified. The model will predict the next state of the robot given a sequence of previous states and actions."
   ]
  },
  {
   "cell_type": "code",
   "execution_count": 1,
   "id": "72051a80",
   "metadata": {},
   "outputs": [],
   "source": [
    "import torch\n",
    "import torch.nn as nn\n",
    "import matplotlib.pyplot as plt\n",
    "import numpy as np\n",
    "import pandas as pd\n",
    "\n",
    "# Ensure matplotlib inline mode for Jupyter\n",
    "%matplotlib inline"
   ]
  },
  {
   "cell_type": "markdown",
   "id": "754d7240",
   "metadata": {},
   "source": [
    "### Load the Dataset"
   ]
  },
  {
   "cell_type": "code",
   "execution_count": 2,
   "id": "82b8ca36",
   "metadata": {},
   "outputs": [
    {
     "data": {
      "text/html": [
       "<div>\n",
       "<style scoped>\n",
       "    .dataframe tbody tr th:only-of-type {\n",
       "        vertical-align: middle;\n",
       "    }\n",
       "\n",
       "    .dataframe tbody tr th {\n",
       "        vertical-align: top;\n",
       "    }\n",
       "\n",
       "    .dataframe thead th {\n",
       "        text-align: right;\n",
       "    }\n",
       "</style>\n",
       "<table border=\"1\" class=\"dataframe\">\n",
       "  <thead>\n",
       "    <tr style=\"text-align: right;\">\n",
       "      <th></th>\n",
       "      <th>timestamp</th>\n",
       "      <th>x</th>\n",
       "      <th>y</th>\n",
       "      <th>z</th>\n",
       "      <th>yaw</th>\n",
       "      <th>v_horizontal</th>\n",
       "      <th>v_vertical</th>\n",
       "      <th>accel</th>\n",
       "      <th>steer</th>\n",
       "    </tr>\n",
       "  </thead>\n",
       "  <tbody>\n",
       "    <tr>\n",
       "      <th>0</th>\n",
       "      <td>2048.004209</td>\n",
       "      <td>452197.462912</td>\n",
       "      <td>3.949667e+06</td>\n",
       "      <td>88.468085</td>\n",
       "      <td>-0.390413</td>\n",
       "      <td>0.011836</td>\n",
       "      <td>0.030021</td>\n",
       "      <td>0.0</td>\n",
       "      <td>-38.0</td>\n",
       "    </tr>\n",
       "    <tr>\n",
       "      <th>1</th>\n",
       "      <td>2048.104465</td>\n",
       "      <td>452197.467826</td>\n",
       "      <td>3.949667e+06</td>\n",
       "      <td>88.463231</td>\n",
       "      <td>-0.393374</td>\n",
       "      <td>0.038694</td>\n",
       "      <td>-0.091738</td>\n",
       "      <td>0.0</td>\n",
       "      <td>-38.0</td>\n",
       "    </tr>\n",
       "    <tr>\n",
       "      <th>2</th>\n",
       "      <td>2048.207218</td>\n",
       "      <td>452197.465972</td>\n",
       "      <td>3.949667e+06</td>\n",
       "      <td>88.469801</td>\n",
       "      <td>-0.385135</td>\n",
       "      <td>0.049873</td>\n",
       "      <td>0.043076</td>\n",
       "      <td>0.0</td>\n",
       "      <td>-38.0</td>\n",
       "    </tr>\n",
       "    <tr>\n",
       "      <th>3</th>\n",
       "      <td>2048.304435</td>\n",
       "      <td>452197.465861</td>\n",
       "      <td>3.949667e+06</td>\n",
       "      <td>88.467945</td>\n",
       "      <td>-0.380474</td>\n",
       "      <td>0.034952</td>\n",
       "      <td>-0.009294</td>\n",
       "      <td>0.0</td>\n",
       "      <td>-38.0</td>\n",
       "    </tr>\n",
       "    <tr>\n",
       "      <th>4</th>\n",
       "      <td>2048.404340</td>\n",
       "      <td>452197.465777</td>\n",
       "      <td>3.949667e+06</td>\n",
       "      <td>88.468571</td>\n",
       "      <td>-0.386001</td>\n",
       "      <td>0.013054</td>\n",
       "      <td>-0.024935</td>\n",
       "      <td>0.0</td>\n",
       "      <td>-38.0</td>\n",
       "    </tr>\n",
       "  </tbody>\n",
       "</table>\n",
       "</div>"
      ],
      "text/plain": [
       "     timestamp              x             y          z       yaw  \\\n",
       "0  2048.004209  452197.462912  3.949667e+06  88.468085 -0.390413   \n",
       "1  2048.104465  452197.467826  3.949667e+06  88.463231 -0.393374   \n",
       "2  2048.207218  452197.465972  3.949667e+06  88.469801 -0.385135   \n",
       "3  2048.304435  452197.465861  3.949667e+06  88.467945 -0.380474   \n",
       "4  2048.404340  452197.465777  3.949667e+06  88.468571 -0.386001   \n",
       "\n",
       "   v_horizontal  v_vertical  accel  steer  \n",
       "0      0.011836    0.030021    0.0  -38.0  \n",
       "1      0.038694   -0.091738    0.0  -38.0  \n",
       "2      0.049873    0.043076    0.0  -38.0  \n",
       "3      0.034952   -0.009294    0.0  -38.0  \n",
       "4      0.013054   -0.024935    0.0  -38.0  "
      ]
     },
     "execution_count": 2,
     "metadata": {},
     "output_type": "execute_result"
    }
   ],
   "source": [
    "# Load the dataset\n",
    "file_path = 'tile_data_v2.csv'  # replace with the actual path to your dataset\n",
    "data = pd.read_csv(file_path)\n",
    "\n",
    "# Display the first few rows\n",
    "data.head()"
   ]
  },
  {
   "cell_type": "markdown",
   "id": "2365bf42",
   "metadata": {},
   "source": [
    "### Data Preprocessing\n",
    "We will create input sequences of length `h` for both the state and action variables, and output sequences for the corresponding next state."
   ]
  },
  {
   "cell_type": "code",
   "execution_count": 3,
   "id": "2cf35b62",
   "metadata": {},
   "outputs": [
    {
     "data": {
      "text/plain": [
       "(torch.Size([3118, 70]), torch.Size([3118, 5]))"
      ]
     },
     "execution_count": 3,
     "metadata": {},
     "output_type": "execute_result"
    }
   ],
   "source": [
    "# Extract state and action data\n",
    "state_columns = ['x', 'y', 'yaw', 'v_horizontal', 'v_vertical']\n",
    "action_columns = ['accel', 'steer']\n",
    "\n",
    "states = data[state_columns].values\n",
    "actions = data[action_columns].values\n",
    "\n",
    "# Create sequences with history length h\n",
    "h = 10  # history length\n",
    "input_sequences = []\n",
    "output_sequences = []\n",
    "\n",
    "for i in range(len(states) - h):\n",
    "    input_seq = np.concatenate((states[i:i+h], actions[i:i+h]), axis=1).flatten()\n",
    "    output_seq = states[i+h]  # the next state to predict\n",
    "    input_sequences.append(input_seq)\n",
    "    output_sequences.append(output_seq)\n",
    "\n",
    "input_sequences = np.array(input_sequences)\n",
    "output_sequences = np.array(output_sequences)\n",
    "\n",
    "# Convert to PyTorch tensors\n",
    "inputs = torch.tensor(input_sequences, dtype=torch.float32)\n",
    "outputs = torch.tensor(output_sequences, dtype=torch.float32)\n",
    "\n",
    "inputs.shape, outputs.shape  # Check the shapes\n"
   ]
  },
  {
   "cell_type": "markdown",
   "id": "d3b87c58",
   "metadata": {},
   "source": [
    "### Define the Model\n",
    "The model architecture is as follows:"
   ]
  },
  {
   "cell_type": "code",
   "execution_count": 6,
   "id": "ff6a843f",
   "metadata": {},
   "outputs": [
    {
     "data": {
      "text/plain": [
       "RobotDynamicsModel(\n",
       "  (fc1): Linear(in_features=70, out_features=140, bias=True)\n",
       "  (fc2): Linear(in_features=140, out_features=280, bias=True)\n",
       "  (fc3): Linear(in_features=280, out_features=420, bias=True)\n",
       "  (fc4): Linear(in_features=420, out_features=140, bias=True)\n",
       "  (output_layer): Linear(in_features=140, out_features=5, bias=True)\n",
       ")"
      ]
     },
     "execution_count": 6,
     "metadata": {},
     "output_type": "execute_result"
    }
   ],
   "source": [
    "# Define the model\n",
    "class RobotDynamicsModel(nn.Module):\n",
    "    def __init__(self, input_size):\n",
    "        super(RobotDynamicsModel, self).__init__()\n",
    "        self.fc1 = nn.Linear(input_size, 2 * input_size)\n",
    "        self.fc2 = nn.Linear(2 * input_size, 4 * input_size)\n",
    "        self.fc3 = nn.Linear(4 * input_size, 6 * input_size)\n",
    "        self.fc4 = nn.Linear(6 * input_size, 2 * input_size)\n",
    "        self.output_layer = nn.Linear(2 * input_size, len(state_columns))  # Output size is |x| = 3\n",
    "\n",
    "    def forward(self, x):\n",
    "        x = torch.relu(self.fc1(x))\n",
    "        x = torch.relu(self.fc2(x))\n",
    "        x = torch.relu(self.fc3(x))\n",
    "        x = torch.relu(self.fc4(x))\n",
    "        x = self.output_layer(x)\n",
    "        return x\n",
    "\n",
    "# Instantiate the model\n",
    "input_size = h * (len(state_columns) + len(action_columns))  # h * (|x| + |a|)\n",
    "model = RobotDynamicsModel(input_size)\n",
    "model"
   ]
  },
  {
   "cell_type": "markdown",
   "id": "56da75b1",
   "metadata": {},
   "source": [
    "### Training the Model\n",
    "We'll now train the model using the Mean Squared Error (MSE) loss function and the Adam optimizer."
   ]
  },
  {
   "cell_type": "code",
   "execution_count": null,
   "id": "f012c242",
   "metadata": {},
   "outputs": [],
   "source": [
    "# Check for CUDA\n",
    "device = torch.device('cuda' if torch.cuda.is_available() else 'cpu')\n",
    "\n",
    "# Move the model to the GPU\n",
    "model = RobotDynamicsModel(input_size).to(device)\n",
    "\n",
    "# Move the data to the GPU\n",
    "inputs = inputs.to(device)\n",
    "outputs = outputs.to(device)\n",
    "\n",
    "# Define loss function and optimizer\n",
    "criterion = nn.MSELoss()\n",
    "optimizer = torch.optim.Adam(model.parameters(), lr=0.001)\n",
    "\n",
    "# Training settings\n",
    "epochs = 100000\n",
    "loss_threshold = 100  # Define your loss threshold\n",
    "min_loss = float('inf')\n",
    "losses = []  # To store the loss values\n",
    "filtered_losses = []  # To store non-outlier loss values for plotting\n",
    "\n",
    "# Train the model\n",
    "for epoch in range(epochs):\n",
    "    optimizer.zero_grad()\n",
    "    predictions = model(inputs)  # Predictions are now on GPU\n",
    "    loss = criterion(predictions, outputs)  # Loss is computed on GPU\n",
    "    loss.backward()  # Backpropagation on GPU\n",
    "    optimizer.step()\n",
    "\n",
    "    current_loss = loss.item()\n",
    "    losses.append(current_loss)\n",
    "    \n",
    "    # Outlier detection: filter out any loss value above a certain threshold\n",
    "    if current_loss <= loss_threshold:\n",
    "        filtered_losses.append(current_loss)\n",
    "\n",
    "    else:\n",
    "        print(inputs[-1])\n",
    "\n",
    "    # Save the model if loss is below the threshold and is the minimum observed\n",
    "    if current_loss < loss_threshold and current_loss < min_loss:\n",
    "        min_loss = current_loss\n",
    "        torch.save(model.state_dict(), 'best_model_below_threshold.pth')\n",
    "        print(f'Model saved at epoch {epoch + 1} with loss: {current_loss:.4f}')\n",
    "    \n",
    "    if (epoch + 1) % 10 == 0:\n",
    "        pass\n",
    "        # print(f'Epoch [{epoch+1}/{epochs}], Loss: {current_loss:.4f}')"
   ]
  },
  {
   "cell_type": "code",
   "execution_count": 8,
   "id": "282de585-128e-44af-9f81-648f05d7c04f",
   "metadata": {},
   "outputs": [
    {
     "data": {
      "image/png": "[encoded data removed]",
      "text/plain": [
       "<Figure size 1000x500 with 1 Axes>"
      ]
     },
     "metadata": {},
     "output_type": "display_data"
    }
   ],
   "source": [
    "plt.figure(figsize=(10, 5))\n",
    "plt.plot(filtered_losses, label='Training Loss (filtered)')\n",
    "plt.xlabel('Epochs')\n",
    "plt.ylabel('Loss')\n",
    "plt.title('Filtered Loss Curve')\n",
    "plt.legend()\n",
    "plt.show()\n"
   ]
  },
  {
   "cell_type": "code",
   "execution_count": null,
   "id": "6822d0b3-4150-4a10-9302-672ac688a118",
   "metadata": {},
   "outputs": [],
   "source": []
  }
 ],
 "metadata": {
  "kernelspec": {
   "display_name": "Python 3 (ipykernel)",
   "language": "python",
   "name": "python3"
  },
  "language_info": {
   "codemirror_mode": {
    "name": "ipython",
    "version": 3
   },
   "file_extension": ".py",
   "mimetype": "text/x-python",
   "name": "python",
   "nbconvert_exporter": "python",
   "pygments_lexer": "ipython3",
   "version": "3.10.13"
  }
 },
 "nbformat": 4,
 "nbformat_minor": 5
}
